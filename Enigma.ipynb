{
 "cells": [
  {
   "cell_type": "code",
   "execution_count": null,
   "id": "ed016f73",
   "metadata": {},
   "outputs": [],
   "source": [
    "import random"
   ]
  },
  {
   "cell_type": "markdown",
   "id": "66f0d016",
   "metadata": {},
   "source": [
    "# Programação funcional em Python\n",
    "*Sintam-se a vontade para pular esta parte. Achei importante incluir porque talvez alguém não conheça esses recursos da linguagem*.\n",
    "\n",
    "Programação funcional é um paradigma de programação com foco em funções puras, imutabilidade de dados, recursão e funções de alta ordem. Apesar de Python não ser uma linguagem funcional, este é um paradigma de que eu gosto e o código abaixo segue alguns destes princípios. Vejamos alguns recursos de programação funcional disponíveis em Python que foram utilizados:\n",
    "\n",
    "### List comprehensions\n",
    "Uma maneira concisa de criar listas em Python, aplicando uma expressão a cada item em um iterável (por exemplo, uma lista) e coletando os resultados. Consistem em colchetes `[]` que contêm uma expressão seguida de um loop for (e, opcionalmente, condições if) para filtrar ou modificar elementos do iterável.\n",
    "\n",
    "    [x*x for x in range(1,6)] \n",
    "    # -> [1,4,9,16,25]\n",
    "    \n",
    "    [x for x in [32,1,6,48,2,75] if x % 2 == 1]\n",
    "    # -> [1, 75]\n",
    "    \n",
    "### Funções de alta ordem\n",
    "Em Python, as funções são consideradas first-class citizens, o que significa que podem ser tratadas como qualquer outro tipo de dado, como inteiros ou strings. Uma função de alta ordem é uma função que recebe uma ou mais funções como argumentos ou retorna uma função como seu resultado\n",
    "\n",
    "    def opera(f, a, b):\n",
    "        return f(a, b)\n",
    "    \n",
    "    def soma(a, b):\n",
    "        return a + b\n",
    "        \n",
    "    opera(soma, 1, 2)\n",
    "    # -> 3\n",
    "    \n",
    "    def soma3(a):\n",
    "        return soma(3, a)\n",
    "    \n",
    "    soma3(2)\n",
    "    # -> 5\n",
    "\n",
    "### Expressões lambda\n",
    "Uma maneira simples de definir uma função em uma linha. Pode ser atribuida a uma variável, ou ser passada anonimamente para uma função de alta ordem.\n",
    "\n",
    "    quadrado = lambda x: x*x\n",
    "    \n",
    "    quadrado(7)\n",
    "    # -> 49"
   ]
  },
  {
   "cell_type": "code",
   "execution_count": null,
   "id": "03c93b06",
   "metadata": {},
   "outputs": [],
   "source": [
    "# Retorna uma copia da lista x embaralhada, sem modificar a lista original\n",
    "def imut_shuffle(x):\n",
    "    return random.sample(x, k=len(x))"
   ]
  },
  {
   "cell_type": "code",
   "execution_count": null,
   "id": "38f88073",
   "metadata": {},
   "outputs": [],
   "source": [
    "# Retorna uma List contendo todos os caracteres imprimiveis da tabela ASCII\n",
    "def get_printables():\n",
    "    return \"\".join([chr(i) for i in range (32,127)])"
   ]
  },
  {
   "cell_type": "markdown",
   "id": "cf72a2ea",
   "metadata": {},
   "source": [
    "# O Rotor\n",
    "\n",
    "O rotor é a peça móvel do Enigma. Ele contém 26 contatos, ou quantos forem suficientes para representar todos os caracteres que se deseja criptografar (no nosso caso serão todos os caracteres imprimíveis da tabela ASCII, isso é 95 caracteres). Internamente, o rotor \"embaralha\" as entradas, conectando uma letra na entrada para uma letra diferente na saída.\n",
    "\n",
    "Usualmente, o Enigma conta três rotores conectados em sequência (em nosso projeto poderemos ter tantos rotores quanto forem necessários). Após a inserção de um caracter qualquer, o primeiro rotor avança uma posição, criando novas conexões entre as letras, ou seja, uma mesma letra de entrada poderá ter múltiplas representações distintas na mensagem criptografada. Isso torna o Enigma uma máquina criptográfica bastante robusta.\n",
    "\n",
    "Vejamos o funcionamento de um rotor. Suponha que temos um rotor com as conexões abaixo:\n",
    "\n",
    "| A | B | C | D | E | F | G | H | I | J | K | L | M | N | O | P | Q | R | S | T | U | V | W | X | Y | Z | \n",
    "|---|---|---|---|---|---|---|---|---|---|---|---|---|---|---|---|---|---|---|---|---|---|---|---|---|---|\n",
    "| D | M | T | W | S | I | L | R | U | Y | Q | N | K | F | E | J | C | A | Z | B | P | G | X | O | H | V |\n",
    "\n",
    "Com esta configuração, se a nossa mensagem começa com a letra 'U', após passar pelo primeiro rotor, se transformará em 'P'. Em seguida o rotor avançará uma posição e as novas conexões serão:\n",
    "\n",
    "| A | B | C | D | E | F | G | H | I | J | K | L | M | N | O | P | Q | R | S | T | U | V | W | X | Y | Z | \n",
    "|---|---|---|---|---|---|---|---|---|---|---|---|---|---|---|---|---|---|---|---|---|---|---|---|---|---|\n",
    "| V | D | M | T | W | S | I | L | R | U | Y | Q | N | K | F | E | J | C | A | Z | B | P | G | X | O | H |\n",
    "\n",
    "Se a segunda letra da mensagem também for 'U', dessa vez se transformará em 'B'."
   ]
  },
  {
   "cell_type": "markdown",
   "id": "31955dc4",
   "metadata": {},
   "source": [
    "# A Simetria do Enigma\n",
    "\n",
    "O método de criptografia do Enigma é \"simétrico\", isto  é, dado um algoritmo de criptografia `Enc`, uma chave `k` e uma mensagem cifrada `c` gerada a partir de uma mensagem `m`, `c = Enc(k, m)` então `m = Enc(k, c)`. Ou seja, podemos usar o mesmo algoritmo e chave para cifrar uma mensagem e decifrar uma mensagem cifrada.\n",
    "\n",
    "A simetria é garantida pelo uso do refletor. Originalmente, em uma máquina de Enigma eletromecânica, o sinal partia do teclado onde o operador digitava a mensagem que se queria criptografar, passava por um conjunto de rotores, depois pelo refletor e por fim **passava novamente pelos rotores em ordem inversa**.\n",
    "\n",
    "Suponhamos que em uma Máquina com três rotores com uma dada configuração inicial, queremos cifrar a letra 'A' e o sinal foi: \n",
    "\n",
    "| Ida     |         |         |          | Volta   |         |         | \n",
    "|---------|---------|---------|----------|---------|---------|---------| \n",
    "| 1 Rotor | 2 Rotor | 3 Rotor | Refletor | 3 Rotor | 2 Rotor | 1 Rotor | \n",
    "| A       | F       | A       | G        | Y       | L       | C       |\n",
    "\n",
    "Então **na mesma Máquina, com os mesmos rotores e configuração inicial,** se quisermos cifrar a letra 'C', o sinal será: \n",
    "\n",
    "| Ida     |         |         |          | Volta   |         |         | \n",
    "|---------|---------|---------|----------|---------|---------|---------| \n",
    "| 1 Rotor | 2 Rotor | 3 Rotor | Refletor | 3 Rotor | 2 Rotor | 1 Rotor | \n",
    "| C       | L       | Y       | G        | A       | F       | A       |\n",
    "\n",
    "\n",
    "Essa escolha de design permitiu a simplificação da operação, já que apenas um algoritmo e chave são necessários tanto na cifragem quanto na decifragem, mas também introduziu uma vulnerabilidade que foi utilizada para quebrar o Enigma: nenhuma letra poderia cifrar ela própria, pois para isso o sinal teria que passar pelo mesmo contato em dois sentidos diferentes, o que não é possível. Nossa implementação não terá essa vulnerabilidade, pois podemos simular este comportamento em software.\n",
    "\n",
    "Mais detalhes sobre o Enigma em: https://pt.wikipedia.org/wiki/Enigma_(m%C3%A1quina)"
   ]
  },
  {
   "cell_type": "code",
   "execution_count": null,
   "id": "1e8e9d55",
   "metadata": {},
   "outputs": [],
   "source": [
    "def create_rotor():\n",
    "    rotor = imut_shuffle(get_printables())\n",
    "    l = len(rotor)\n",
    "    \n",
    "    printables = get_printables()\n",
    "    \n",
    "    signal_up = lambda c, rotation: rotor[(printables.index(c)+rotation) % l]\n",
    "    signal_down = lambda c, rotation: printables[(rotor.index(c)-rotation) % l]\n",
    "    return lambda c, rotation, up=True: signal_up(c, rotation) if up else signal_down(c, rotation)"
   ]
  },
  {
   "cell_type": "code",
   "execution_count": null,
   "id": "343a67be",
   "metadata": {},
   "outputs": [],
   "source": [
    "# Retorna a string que o rotor usara para criptografar\n",
    "def get_rotor_string(rotor):\n",
    "    return \"\".join( [rotor(c, 0) for c in get_printables()] )"
   ]
  },
  {
   "cell_type": "code",
   "execution_count": null,
   "id": "386b12d3",
   "metadata": {},
   "outputs": [],
   "source": [
    "# Imprime o relatorio de um teste que retorna a lista de testes passados e falhados, nesta ordem\n",
    "# Devolve `True` se todos os casos passarem\n",
    "def TEST_report(test):\n",
    "    \n",
    "    passed, failed = test()\n",
    "    \n",
    "    print(f\"Passed: {len(passed)}\\nFailed: {len(failed)}\")\n",
    "    \n",
    "    return failed == []"
   ]
  },
  {
   "cell_type": "code",
   "execution_count": null,
   "id": "adc9571c",
   "metadata": {},
   "outputs": [],
   "source": [
    "def TEST_create_rotor():\n",
    "    r = create_rotor()\n",
    "    \n",
    "    passed = []\n",
    "    failed = []\n",
    "    \n",
    "    printables = get_printables()\n",
    "    \n",
    "    for i in range(len(printables)):\n",
    "        if (\"\".join( [r( r( c, i, up=False), i ) for c in printables] )) == printables:\n",
    "            passed.append(i)\n",
    "        else:\n",
    "            failed.append(i)\n",
    "        \n",
    "    return passed, failed"
   ]
  },
  {
   "cell_type": "code",
   "execution_count": null,
   "id": "6b07c17b",
   "metadata": {},
   "outputs": [],
   "source": [
    "TEST_report(TEST_create_rotor)"
   ]
  },
  {
   "cell_type": "code",
   "execution_count": null,
   "id": "f2692a50",
   "metadata": {},
   "outputs": [],
   "source": [
    "# Testa se, dado uma seed ao gerador aleatorio, o rotor gerado sera sempre o mesmo\n",
    "# Meio obvio, mas nao custa testar :P\n",
    "def TEST_determine_rotor():\n",
    "    passed = []\n",
    "    failed = []\n",
    "    \n",
    "    random.seed(42)\n",
    "    reference = get_rotor_string( create_rotor() )\n",
    "    \n",
    "    for _ in range(100):\n",
    "        random.seed(42)\n",
    "        \n",
    "        rot_str = get_rotor_string( create_rotor() )\n",
    "        \n",
    "        if rot_str == reference:\n",
    "            passed.append(True)\n",
    "        else:\n",
    "            failed.append(False)\n",
    "    \n",
    "    return passed, failed"
   ]
  },
  {
   "cell_type": "code",
   "execution_count": null,
   "id": "3bd36ab1",
   "metadata": {},
   "outputs": [],
   "source": [
    "TEST_report(TEST_determine_rotor)"
   ]
  },
  {
   "cell_type": "code",
   "execution_count": null,
   "id": "e2d3e0d2",
   "metadata": {},
   "outputs": [],
   "source": [
    "# Em media, apenas um caracter do rotor gera ele mesmo\n",
    "def TEST_encrypt_same_caracter():\n",
    "\n",
    "    same_index = 0\n",
    "    \n",
    "    for _ in range(100):\n",
    "        r = create_rotor()\n",
    "\n",
    "        rot_str = get_rotor_string(r)\n",
    "        printables = get_printables()\n",
    "        \n",
    "        same_index += len([c for c in printables if rot_str.index(c) == printables.index(c)])\n",
    "        \n",
    "    return same_index / 100"
   ]
  },
  {
   "cell_type": "markdown",
   "id": "8e1a617f",
   "metadata": {},
   "source": [
    "# O Refletor\n",
    "\n",
    "O refletor é uma peça fixa do enigma, indispensável para garantir a simetria anteriormente mencionada. Ele é construído de forma diferente do rotor: é necessário garantir que se `a` se tranforma em `b` ao passar pelo refletor, então também `b` se transforma em `a` ao passar pelo refletor. Note que no rotor isso não necessariamente ocorre (de fato, no rotor de exemplo discutido anteriormente **A** se transforma em **D**, mas **D**, se tranforma em **W**). No Enigma eletromecânico, havia ainda outra restrição, que é `a` deve ser diferente de `b`. Na nossa implementação não teremos essa restrição.\n",
    "\n",
    "Vejamos um refletor de exemplo:\n",
    "\n",
    "| A | B | C | D | E | F | G | H | I | J | K | L | M | N | O | P | Q | R | S | T | U | V | W | X | Y | Z | \n",
    "|---|---|---|---|---|---|---|---|---|---|---|---|---|---|---|---|---|---|---|---|---|---|---|---|---|---|\n",
    "| Q | Y | H | O | G | N | E | C | V | P | U | Z | T | F | D | J | A | X | W | M | K | I | S | R | B | L |\n",
    "\n",
    "Aqui, **A** se transforma em **Q**, e também **Q** se transforma em **A**. Este sempre será o caso, já que o refletor é fixo.\n",
    " "
   ]
  },
  {
   "cell_type": "code",
   "execution_count": null,
   "id": "a6b68795",
   "metadata": {},
   "outputs": [],
   "source": [
    "# Cria um refletor conforme discutido acima. \n",
    "# O algoritmo seleciona dois caracteres aleatoriamente da lista de imprimiveis e os troca de lugar.\n",
    "# Uma vez posicionado um caracter nao trocara mais de lugar\n",
    "# Como temos um numero impar de caracteres, exatamente um caracter ficara sem par e se cifrara ele proprio\n",
    "\n",
    "# Podemos pensar em um outro algoritmo que permita que outros caracteres tambem cifrem eles proprios\n",
    "\n",
    "def create_reflector(missing_test=False):\n",
    "    \n",
    "    printables = [*get_printables()]\n",
    "    mut_printables = [*get_printables()]\n",
    "    \n",
    "    l = len(printables)\n",
    "    \n",
    "    reflector = [''] * l\n",
    "    \n",
    "    for i in range(l//2):\n",
    "        \n",
    "        p1 = random.choice(mut_printables)\n",
    "        mut_printables.remove(p1)\n",
    "        \n",
    "        p2 = random.choice(mut_printables)\n",
    "        mut_printables.remove(p2)\n",
    "        \n",
    "        reflector[printables.index(p1)] = p2\n",
    "        reflector[printables.index(p2)] = p1\n",
    "        \n",
    "    \n",
    "    reflector[reflector.index('')] = mut_printables[0]\n",
    "    \n",
    "    if missing_test:\n",
    "        return \"\".join(reflector), mut_printables\n",
    "    \n",
    "    return lambda c: printables[reflector.index(c)]"
   ]
  },
  {
   "cell_type": "code",
   "execution_count": null,
   "id": "c4251a88",
   "metadata": {},
   "outputs": [],
   "source": [
    "def get_reflector_string(reflector):\n",
    "    return \"\".join( [reflector(c) for c in get_printables()] )"
   ]
  },
  {
   "cell_type": "code",
   "execution_count": null,
   "id": "4013eae8",
   "metadata": {},
   "outputs": [],
   "source": [
    "# Este teste mostra que no maximo um caractere e 'perdido' na criacao do refletor\n",
    "# Isso acaba acontecendo porque o numero de caracteres imprimiveis e impar\n",
    "def TEST_check_for_missing():\n",
    "    passed = []\n",
    "    failed = []\n",
    "    \n",
    "    \n",
    "    for _ in range(10000):\n",
    "        ref, miss = create_reflector(missing_test=True)\n",
    "        \n",
    "        if len(miss) <= 1:\n",
    "            passed.append(True)\n",
    "        else:\n",
    "            failed.append(False)\n",
    "    \n",
    "    return passed, failed"
   ]
  },
  {
   "cell_type": "code",
   "execution_count": null,
   "id": "4dae0970",
   "metadata": {
    "scrolled": true
   },
   "outputs": [],
   "source": [
    "TEST_report(TEST_check_for_missing)"
   ]
  },
  {
   "cell_type": "code",
   "execution_count": null,
   "id": "837b8956",
   "metadata": {},
   "outputs": [],
   "source": [
    "# Retorna uma funcao (Maquina) que utilizara um numero especificado de rotores para realizar a criptografia da mensagem\n",
    "# Recebe `random_seed` para garantir reprodutibilidade\n",
    "def create_encryptor(rot_count, random_seed):\n",
    "    random.seed(random_seed)\n",
    "    \n",
    "    rotors = [create_rotor() for _ in range(rot_count)]\n",
    "    reflector = create_reflector()\n",
    "    \n",
    "    def encryptor(c, state):\n",
    "        new_c = c\n",
    "        l = len(get_printables())\n",
    "        \n",
    "        rotor_states = []\n",
    "        \n",
    "        for _ in range(rot_count):\n",
    "            rotor_states.append(state % l)\n",
    "            state = state // l\n",
    "        \n",
    "        for r, s in zip(rotors, rotor_states):\n",
    "            new_c = r(new_c, s)\n",
    "        \n",
    "        new_c = reflector(new_c)\n",
    "        \n",
    "        for r, s in zip(rotors[::-1], rotor_states[::-1]):\n",
    "            new_c = r(new_c, s, up=False)\n",
    "        \n",
    "        return new_c\n",
    "    \n",
    "    return encryptor"
   ]
  },
  {
   "cell_type": "code",
   "execution_count": null,
   "id": "3aba6e91",
   "metadata": {},
   "outputs": [],
   "source": [
    "# Remove caracteres de controle, ex: '\\n'\n",
    "def sanitize(string):\n",
    "    return \"\".join(c for c in string if 32 <= ord(c) < 127)"
   ]
  },
  {
   "cell_type": "code",
   "execution_count": null,
   "id": "2df6ed61",
   "metadata": {},
   "outputs": [],
   "source": [
    "# Recebe uma Maquina, uma mensagem e uma configuracao inicial\n",
    "# Retorna a mensagem cifrada e a configuracao final\n",
    "def encrypt(encryptor, msg, initial_state):\n",
    "    encrypted_message = []\n",
    "    state = initial_state\n",
    "    \n",
    "    sanitized = sanitize(msg)\n",
    "    \n",
    "    for c in sanitized:\n",
    "        new_c = encryptor(c, state)\n",
    "        state = state + 1\n",
    "        \n",
    "        encrypted_message.append(new_c)\n",
    "        \n",
    "    return \"\".join(encrypted_message)"
   ]
  },
  {
   "cell_type": "code",
   "execution_count": null,
   "id": "11a20402",
   "metadata": {},
   "outputs": [],
   "source": [
    "enc = create_encryptor(3, 163)"
   ]
  },
  {
   "cell_type": "code",
   "execution_count": null,
   "id": "3cff91e8",
   "metadata": {},
   "outputs": [],
   "source": [
    "message = \"\"\"\n",
    "Esta e uma mensagem multilinha.\n",
    "Antes de ser cifrada, os caracteres de controle deverao ser removidos.\n",
    "Esses caracteres nao estarao presentes quando decifrarmos a mensagem\n",
    "\"\"\""
   ]
  },
  {
   "cell_type": "code",
   "execution_count": null,
   "id": "6686af3e",
   "metadata": {},
   "outputs": [],
   "source": [
    "initial_state = 1729"
   ]
  },
  {
   "cell_type": "code",
   "execution_count": null,
   "id": "6ded4b09",
   "metadata": {},
   "outputs": [],
   "source": [
    "cypher = encrypt(enc, message, initial_state)\n",
    "cypher"
   ]
  },
  {
   "cell_type": "code",
   "execution_count": null,
   "id": "1d2da0a9",
   "metadata": {},
   "outputs": [],
   "source": [
    "decypher = encrypt(enc, cypher, initial_state)\n",
    "decypher"
   ]
  },
  {
   "cell_type": "code",
   "execution_count": null,
   "id": "63dbcc06",
   "metadata": {},
   "outputs": [],
   "source": []
  }
 ],
 "metadata": {
  "kernelspec": {
   "display_name": "Python 3",
   "language": "python",
   "name": "python3"
  },
  "language_info": {
   "codemirror_mode": {
    "name": "ipython",
    "version": 3
   },
   "file_extension": ".py",
   "mimetype": "text/x-python",
   "name": "python",
   "nbconvert_exporter": "python",
   "pygments_lexer": "ipython3",
   "version": "3.8.8"
  }
 },
 "nbformat": 4,
 "nbformat_minor": 5
}
